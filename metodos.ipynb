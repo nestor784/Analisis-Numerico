{
 "cells": [
  {
   "cell_type": "code",
   "execution_count": 13,
   "id": "91948128",
   "metadata": {},
   "outputs": [],
   "source": [
    "#Método de la bisección\n",
    "\n",
    "def mbiseccion(f,a,b,tol,ni):\n",
    "    for i in range(ni):\n",
    "        \n",
    "        fa = numerical_approx(f(x=a))\n",
    "        p = a + (b-a)/2\n",
    "        fp = numerical_approx(f(x=p))\n",
    "        \n",
    "        epsilon = abs((b-a)/2)\n",
    "        \n",
    "        print(\"n:\",i+1,\"p:\",p.n(),\"f(p):\",fp.n(),\"e:\",epsilon)\n",
    "        \n",
    "        if fp == 0 or epsilon < tol:\n",
    "            return p.n()\n",
    "        \n",
    "        if fa*fp > 0:\n",
    "            a=p\n",
    "            fa=fp\n",
    "        else:\n",
    "            b=p\n",
    "            \n",
    "            \n",
    "    return \"El método fracasó después de \" + str(ni) + \" repeticiones.\""
   ]
  },
  {
   "cell_type": "code",
   "execution_count": 14,
   "id": "e801f4d7",
   "metadata": {},
   "outputs": [],
   "source": [
    "#Método de Newton\n",
    "\n",
    "def mnewton(f,p0,tol,ni):\n",
    "    g = derivative(f,1)\n",
    "    \n",
    "    for i in range(ni):\n",
    "        \n",
    "        fp0 = numerical_approx(f(x=p0))\n",
    "        gp0 = numerical_approx(g(x=p0))\n",
    "        p = p0 -fp0/gp0\n",
    "                \n",
    "        epsilon = abs(numerical_approx(p)-numerical_approx(p0))\n",
    "        \n",
    "        print(\"n:\",i+1,\"pn:\",p.n(),\"e:\",epsilon)\n",
    "        \n",
    "        if epsilon < tol:\n",
    "            return p.n()\n",
    "        \n",
    "        p0 = numerical_approx(p)\n",
    "    \n",
    "    \n",
    "    return \"El método fracasó después de \" +str(ni)+\" pasos.\""
   ]
  },
  {
   "cell_type": "code",
   "execution_count": 15,
   "id": "509d91d8",
   "metadata": {},
   "outputs": [],
   "source": [
    "#Método de la secante\n",
    "\n",
    "def msecante(f,p0,p1,tol,ni):\n",
    "    for i in range(ni):\n",
    "        \n",
    "        fp1 = numerical_approx(f(x=p1))\n",
    "        fp0 = numerical_approx(f(x=p0))\n",
    "        p = p1 - (fp1*(p1-p0))/(fp1-fp0)\n",
    "        \n",
    "        \n",
    "        epsilon = abs(numerical_approx(p)-numerical_approx(p1))\n",
    "        \n",
    "        print(\"n:\",i+1,\"pn:\",p.n(),\"e:\",epsilon)\n",
    "        \n",
    "        if epsilon < tol:\n",
    "            return p.n()\n",
    "        \n",
    "        p0=numerical_approx(p1)\n",
    "        p1=numerical_approx(p)\n",
    "        \n",
    "    return \"El método fracasó después de \" +str(ni)+\" pasos.\""
   ]
  },
  {
   "cell_type": "code",
   "execution_count": 16,
   "id": "a3aada08",
   "metadata": {},
   "outputs": [],
   "source": [
    "#Método de punto fijo\n",
    "\n",
    "def fpoint(f,p0,tol,ni):\n",
    "    \n",
    "    for i in range(ni):\n",
    "\n",
    "        p = numerical_approx(f(x=p0))\n",
    "        epsilon = abs(p-p0)\n",
    "        \n",
    "        print(\"n:\",i+1,\"p:\", p.n(), \"e:\", epsilon)\n",
    "        \n",
    "        if epsilon < tol:\n",
    "            return p.n()\n",
    "        \n",
    "        p0=p\n",
    "        \n",
    "    return \"El método fracasó después de \" + str(ni) + \" repeticiones.\""
   ]
  }
 ],
 "metadata": {
  "kernelspec": {
   "display_name": "SageMath 9.5",
   "language": "sage",
   "name": "sagemath"
  },
  "language_info": {
   "codemirror_mode": {
    "name": "ipython",
    "version": 3
   },
   "file_extension": ".py",
   "mimetype": "text/x-python",
   "name": "python",
   "nbconvert_exporter": "python",
   "pygments_lexer": "ipython3",
   "version": "3.10.6"
  },
  "widgets": {
   "application/vnd.jupyter.widget-state+json": {
    "state": {},
    "version_major": 1,
    "version_minor": 0
   }
  }
 },
 "nbformat": 4,
 "nbformat_minor": 5
}
